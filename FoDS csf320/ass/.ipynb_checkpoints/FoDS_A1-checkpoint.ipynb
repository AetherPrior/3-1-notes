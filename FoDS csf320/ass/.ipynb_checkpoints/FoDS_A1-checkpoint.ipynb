{
 "cells": [
  {
   "cell_type": "code",
   "execution_count": 4,
   "metadata": {
    "id": "__wGj3-535N3"
   },
   "outputs": [],
   "source": [
    "from scipy.special import gamma\n",
    "from scipy.stats import bernoulli, beta\n",
    "import random\n",
    "import numpy as np\n",
    "import matplotlib.pyplot as plt\n",
    "from matplotlib import animation"
   ]
  },
  {
   "cell_type": "code",
   "execution_count": 7,
   "metadata": {
    "colab": {
     "base_uri": "https://localhost:8080/",
     "height": 36
    },
    "id": "S72CPRRp3_lC",
    "outputId": "e0dd2ba6-9822-4912-b145-f04fbf76d6c6"
   },
   "outputs": [],
   "source": [
    "data = np.array(bernoulli.rvs(size=169,p=0.8))\n",
    "x = np.linspace(0,1,200)"
   ]
  },
  {
   "cell_type": "code",
   "execution_count": 8,
   "metadata": {
    "colab": {
     "base_uri": "https://localhost:8080/",
     "height": 133
    },
    "id": "c_tQ4KrY4tMD",
    "outputId": "1f16c538-d38b-4ee6-e66e-3dc6f3bcb9e3"
   },
   "outputs": [
    {
     "name": "stdout",
     "output_type": "stream",
     "text": [
      "[1 0 1 1 1 1 1 1 1 0 0 0 0 1 1 1 1 0 1 1 1 1 1 0 1 1 0 1 0 1 1 1 0 1 0 1 1\n",
      " 1 1 1 1 1 1 1 1 1 1 0 0 1 1 1 0 1 1 1 1 0 1 1 1 0 0 1 0 1 1 1 1 0 1 1 1 1\n",
      " 1 1 1 0 0 1 1 1 1 1 0 0 1 0 0 1 0 0 1 0 0 1 1 1 1 0 1 1 1 1 1 1 1 0 1 0 1\n",
      " 1 0 1 1 1 0 1 1 0 1 1 1 1 1 1 0 1 1 1 1 1 0 1 1 1 1 1 1 1 1 1 1 1 1 0 1 1\n",
      " 1 1 1 0 1 0 1 1 1 0 1 1 0 1 1 0 1 1 1 0 1]\n",
      "0.7396449704142012\n"
     ]
    }
   ],
   "source": [
    "print(data)\n",
    "print(np.count_nonzero(data)/len(data))"
   ]
  },
  {
   "cell_type": "code",
   "execution_count": 9,
   "metadata": {
    "colab": {
     "base_uri": "https://localhost:8080/",
     "height": 265
    },
    "id": "4HLJc2jUFPhG",
    "outputId": "ec8f667f-e3e9-45b3-b248-e2158fe74958"
   },
   "outputs": [
    {
     "data": {
      "image/png": "[encoded data removed]",
      "text/plain": [
       "<Figure size 432x288 with 1 Axes>"
      ]
     },
     "metadata": {
      "needs_background": "light"
     },
     "output_type": "display_data"
    }
   ],
   "source": [
    "fig = plt.figure()\n",
    "ax = plt.axes()\n",
    "line, = ax.plot([],[])\n",
    "def init():\n",
    "  line.set_data([],[])\n",
    "  return line,\n",
    "##make a prior distribution\n",
    "a = 0.4\n",
    "b = 0.6\n",
    "m = 0\n",
    "n = 0\n",
    "mu = a/(a+b)\n",
    "def animate_func(i):\n",
    "  global a, b, mu, x,n,m\n",
    "  sample = data[random.randint(0,len(data)-1)]\n",
    "  n = n+1\n",
    "  m = m+sample\n",
    "  a = a+sample\n",
    "  b = b+(1-sample)\n",
    "  mu = a/(a+b)\n",
    "  y = beta.pdf(x,a,b)\n",
    "  line.set_data(x,y)\n",
    "  return line,\n",
    "  #print(mu,a,b)"
   ]
  },
  {
   "cell_type": "code",
   "execution_count": 13,
   "metadata": {
    "colab": {
     "base_uri": "https://localhost:8080/",
     "height": 628
    },
    "id": "W0gmr4VL5mLx",
    "outputId": "e717d6fa-2a38-4c63-c565-cc54af438737"
   },
   "outputs": [],
   "source": [
    "anim = animation.FuncAnimation(fig, animate_func, init_func=init,\n",
    "                               frames=100, interval=20, blit=True)\n",
    "plt.show()\n"
   ]
  },
  {
   "cell_type": "code",
   "execution_count": 6,
   "metadata": {
    "colab": {
     "base_uri": "https://localhost:8080/",
     "height": 36
    },
    "id": "tH4TMqbJ-a-I",
    "outputId": "edaf0054-849c-4833-f73a-e7a8a2d094f8"
   },
   "outputs": [
    {
     "name": "stdout",
     "output_type": "stream",
     "text": [
      "0.7636363636363637\n"
     ]
    }
   ],
   "source": [
    "print(mu)"
   ]
  },
  {
   "cell_type": "code",
   "execution_count": 6,
   "metadata": {
    "id": "TJvl4WbO_4Aq"
   },
   "outputs": [],
   "source": []
  }
 ],
 "metadata": {
  "colab": {
   "name": "FoDS-A1.ipynb",
   "provenance": []
  },
  "kernelspec": {
   "display_name": "Python 3",
   "language": "python",
   "name": "python3"
  },
  "language_info": {
   "codemirror_mode": {
    "name": "ipython",
    "version": 3
   },
   "file_extension": ".py",
   "mimetype": "text/x-python",
   "name": "python",
   "nbconvert_exporter": "python",
   "pygments_lexer": "ipython3",
   "version": "3.7.4"
  }
 },
 "nbformat": 4,
 "nbformat_minor": 1
}
