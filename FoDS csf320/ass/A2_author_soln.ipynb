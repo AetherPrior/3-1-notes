{
 "cells": [
  {
   "cell_type": "code",
   "execution_count": 248,
   "metadata": {},
   "outputs": [],
   "source": [
    "import numpy as np\n",
    "import pandas as pd\n",
    "import matplotlib.pyplot as plt\n",
    "from random import randrange\n",
    "plt.style.use(\"seaborn-bright\")\n",
    "np.random.seed(0)"
   ]
  },
  {
   "cell_type": "code",
   "execution_count": 249,
   "metadata": {},
   "outputs": [],
   "source": [
    "def random_split(df, split_ratio=0.7):\n",
    "    \n",
    "    mask = np.random.random(len(df)) < split_ratio\n",
    "    train = df[mask]\n",
    "    test = df[~mask]\n",
    "    x_train = np.array(train.drop(\"charges\", axis=1))\n",
    "    x_test = np.array(test.drop(\"charges\", axis=1))\n",
    "    y_train = np.array(train[\"charges\"])\n",
    "    y_test = np.array(test[\"charges\"])\n",
    "    y_train.resize(y_train.shape[0], 1)\n",
    "    y_test.resize(y_test.shape[0], 1)\n",
    "    return (x_train, y_train, x_test, y_test)"
   ]
  },
  {
   "cell_type": "code",
   "execution_count": 260,
   "metadata": {},
   "outputs": [],
   "source": [
    "def gradient_descent(X, Y, lr=0.001, epochs=100, plot=None):\n",
    "    \n",
    "    N = X.shape[0]\n",
    "    cumm_err, num_it = [], []\n",
    "    W = np.random.random(X.shape[1])\n",
    "    W.resize(X.shape[1], 1)\n",
    "    for _ in range(epochs):\n",
    "        diff = np.dot(X, W) - Y\n",
    "        error = (np.sum(diff ** 2) / (2*N))\n",
    "        dW = np.dot(X.T, diff)\n",
    "        W -= lr * dW\n",
    "        if plot is not None and not _ % plot:\n",
    "            cumm_err.append(error)\n",
    "            num_it.append(_)\n",
    "    if plot is not None:\n",
    "        plt.plot(num_it, cumm_err)\n",
    "        plt.show()\n",
    "    return W"
   ]
  },
  {
   "cell_type": "code",
   "execution_count": 261,
   "metadata": {},
   "outputs": [],
   "source": [
    "def stocastic_gradient_descent(X, Y, lr=0.01, epochs=7500, plot=None):\n",
    "    \n",
    "    cumm_err, num_it = [], []\n",
    "    W = np.random.random(X.shape[1])\n",
    "    for _ in range(epochs):\n",
    "        i = randrange(X.shape[0])\n",
    "        diff = np.dot(X[i], W.T) - Y[i]\n",
    "        error = 0.5 * (np.sum(diff ** 2))\n",
    "        dW = X[i] * diff\n",
    "        W -= lr * dW\n",
    "        if plot is not None and not _ % plot:\n",
    "            cumm_err.append(error)\n",
    "            num_it.append(_)\n",
    "    if plot is not None:\n",
    "        plt.plot(num_it, cumm_err)\n",
    "        plt.show()\n",
    "    W.resize(W.shape[0], 1)\n",
    "    return W"
   ]
  },
  {
   "cell_type": "code",
   "execution_count": 262,
   "metadata": {},
   "outputs": [],
   "source": [
    "def norm_equations(X, Y):\n",
    "    \n",
    "    A = np.dot(X.T, X)\n",
    "    B = np.dot(X.T, Y)\n",
    "    W = np.dot(np.linalg.inv(A), B)\n",
    "    return W"
   ]
  },
  {
   "cell_type": "code",
   "execution_count": 263,
   "metadata": {},
   "outputs": [],
   "source": [
    "def evaluate(W, X, Y):\n",
    "\n",
    "    return (np.sum((np.dot(X, W) - Y) ** 2) / (2*X.shape[0]))"
   ]
  },
  {
   "cell_type": "code",
   "execution_count": 264,
   "metadata": {},
   "outputs": [],
   "source": [
    "df = pd.read_csv(\"insurance.csv\")\n",
    "df = (df - df.min()) / (df.max() - df.min())\n",
    "df[\"bias\"] = np.ones(len(df))"
   ]
  },
  {
   "cell_type": "code",
   "execution_count": 265,
   "metadata": {},
   "outputs": [],
   "source": [
    "gd1, sgd1, neq1 = [], [], []\n",
    "gd2, sgd2, neq2 = [], [], []\n",
    "\n",
    "for _ in range(20):\n",
    "    x_train, y_train, x_test, y_test = random_split(df)\n",
    "    W = gradient_descent(x_train, y_train)\n",
    "    train_error = evaluate(W, x_train, y_train)\n",
    "    test_error = evaluate(W, x_test, y_test)\n",
    "    gd1.append(train_error)\n",
    "    gd2.append(test_error)\n",
    "    \n",
    "    W = stocastic_gradient_descent(x_train, y_train)\n",
    "    train_error = evaluate(W, x_train, y_train)\n",
    "    test_error = evaluate(W, x_test, y_test)\n",
    "    sgd1.append(train_error)\n",
    "    sgd2.append(test_error)\n",
    "    \n",
    "    W = norm_equations(x_train, y_train)\n",
    "    train_error = evaluate(W, x_train, y_train)\n",
    "    test_error = evaluate(W, x_test, y_test)\n",
    "    neq1.append(train_error)\n",
    "    neq2.append(test_error)"
   ]
  },
  {
   "cell_type": "code",
   "execution_count": 266,
   "metadata": {},
   "outputs": [],
   "source": [
    "gd1 = np.array(gd1)\n",
    "gd2 = np.array(gd2)\n",
    "sgd1 = np.array(sgd1)\n",
    "sgd2 = np.array(sgd2)\n",
    "neq1 = np.array(neq1)\n",
    "neq2 = np.array(neq2)"
   ]
  },
  {
   "cell_type": "code",
   "execution_count": 267,
   "metadata": {},
   "outputs": [
    {
     "name": "stdout",
     "output_type": "stream",
     "text": [
      "train metrics\n",
      "15.341839131539029 0.23780952726163554\n",
      "15.54132879525088 0.25086521833306963\n",
      "15.329040959490635 0.23506156935583103\n"
     ]
    }
   ],
   "source": [
    "print(\"train metrics\")\n",
    "print(gd1.mean(), gd1.var())\n",
    "print(sgd1.mean(), sgd1.var())\n",
    "print(neq1.mean(), neq1.var())"
   ]
  },
  {
   "cell_type": "code",
   "execution_count": 268,
   "metadata": {},
   "outputs": [
    {
     "name": "stdout",
     "output_type": "stream",
     "text": [
      "test metrics\n",
      "6.6728277256566155 0.24260618416330876\n",
      "6.757258714903351 0.24527928968252208\n",
      "6.674037466577458 0.2412506457192925\n"
     ]
    }
   ],
   "source": [
    "print(\"test metrics\")\n",
    "print(gd2.mean(), gd2.var())\n",
    "print(sgd2.mean(), sgd2.var())\n",
    "print(neq2.mean(), neq2.var())"
   ]
  },
  {
   "cell_type": "code",
   "execution_count": 277,
   "metadata": {},
   "outputs": [
    {
     "data": {
      "image/png": "[encoded data removed]",
      "text/plain": [
       "<Figure size 432x288 with 1 Axes>"
      ]
     },
     "metadata": {},
     "output_type": "display_data"
    },
    {
     "data": {
      "image/png": "[encoded data removed]",
      "text/plain": [
       "<Figure size 432x288 with 1 Axes>"
      ]
     },
     "metadata": {},
     "output_type": "display_data"
    }
   ],
   "source": [
    "x_train, y_train, x_test, y_test = random_split(df)\n",
    "W = gradient_descent(x_train, y_train, plot=1)\n",
    "W = stocastic_gradient_descent(x_train, y_train, plot=150)"
   ]
  },
  {
   "cell_type": "code",
   "execution_count": null,
   "metadata": {},
   "outputs": [],
   "source": []
  }
 ],
 "metadata": {
  "kernelspec": {
   "display_name": "Python 3",
   "language": "python",
   "name": "python3"
  },
  "language_info": {
   "codemirror_mode": {
    "name": "ipython",
    "version": 3
   },
   "file_extension": ".py",
   "mimetype": "text/x-python",
   "name": "python",
   "nbconvert_exporter": "python",
   "pygments_lexer": "ipython3",
   "version": "3.8.6"
  }
 },
 "nbformat": 4,
 "nbformat_minor": 4
}
