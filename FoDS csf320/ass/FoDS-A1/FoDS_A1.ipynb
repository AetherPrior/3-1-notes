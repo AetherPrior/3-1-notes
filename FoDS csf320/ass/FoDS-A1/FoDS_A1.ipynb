{
 "cells": [
  {
   "cell_type": "markdown",
   "metadata": {
    "id": "1hOkGdWKXAIq"
   },
   "source": [
    "# FoDS - Assignment 1\n",
    "## Members:\n",
    "- Abhinav Sukumar Rao - 2018A7PS0172H  \n",
    "- Pratyush Banerjee   - 2018A7PS0312H  \n",
    "- Rohan Daniel        - 2018A7PS0584H  "
   ]
  },
  {
   "cell_type": "markdown",
   "metadata": {
    "id": "3nkpeUZnW5t6"
   },
   "source": [
    "## Import all packages required"
   ]
  },
  {
   "cell_type": "code",
   "execution_count": 1,
   "metadata": {
    "id": "__wGj3-535N3"
   },
   "outputs": [],
   "source": [
    "from scipy.special import gamma\n",
    "from scipy.stats import bernoulli\n",
    "import random\n",
    "import numpy as np\n",
    "import matplotlib.pyplot as plt\n",
    "from matplotlib import animation\n",
    "%matplotlib inline"
   ]
  },
  {
   "cell_type": "markdown",
   "metadata": {
    "id": "ElAC4avvRPzo"
   },
   "source": [
    "## Generate data"
   ]
  },
  {
   "cell_type": "code",
   "execution_count": 4,
   "metadata": {
    "id": "S72CPRRp3_lC"
   },
   "outputs": [],
   "source": [
    "%%capture\n",
    "import random\n",
    "p = 0.1\n",
    "f = p*160\n",
    "data = []\n",
    "data = [1 if i<f else 0 for i in range(160)]\n",
    "data = np.array(data)\n",
    "random.shuffle(data)\n",
    "#data = np.array(bernoulli.rvs(size=160,p=0.1))\n",
    "fig = plt.figure()\n",
    "x = np.linspace(0,1,200)"
   ]
  },
  {
   "cell_type": "code",
   "execution_count": 5,
   "metadata": {
    "colab": {
     "base_uri": "https://localhost:8080/",
     "height": 133
    },
    "id": "c_tQ4KrY4tMD",
    "outputId": "f0d3f3ea-e6ef-4b34-f80c-5ea148547e88"
   },
   "outputs": [
    {
     "name": "stdout",
     "output_type": "stream",
     "text": [
      "[1 0 0 0 0 0 0 0 0 0 0 0 0 0 0 0 0 0 0 0 1 1 0 0 0 1 0 0 0 0 0 0 0 0 0 0 0\n",
      " 0 0 0 0 1 0 0 0 0 0 1 0 1 0 0 0 0 1 0 0 0 1 0 1 0 0 0 0 0 0 0 0 0 1 0 0 0\n",
      " 0 0 0 0 0 0 0 1 1 0 0 0 0 0 0 0 0 0 1 0 0 0 0 0 0 0 0 0 0 0 0 0 0 0 0 0 0\n",
      " 0 0 0 0 0 0 0 0 0 0 0 0 0 0 0 0 0 1 0 0 0 0 0 0 0 0 0 0 0 0 0 0 1 0 0 0 0\n",
      " 0 0 0 0 0 0 0 0 0 0 0 0]\n",
      "0.1\n"
     ]
    }
   ],
   "source": [
    "print(data)\n",
    "print(np.count_nonzero(data)/len(data))"
   ]
  },
  {
   "cell_type": "code",
   "execution_count": 6,
   "metadata": {
    "id": "ZZx3qnTfZs-c"
   },
   "outputs": [],
   "source": [
    "%%capture\n",
    "fig = plt.figure()\n",
    "ax = plt.axes(xlim=(0,1),ylim=(0,20))\n",
    "line, = ax.plot([],[])\n",
    "text = ax.text(0.4,15,\"Hi\")\n",
    "def init():\n",
    "  line.set_data([],[])\n",
    "  return line,text"
   ]
  },
  {
   "cell_type": "markdown",
   "metadata": {
    "id": "3ElzJyzNeKim"
   },
   "source": [
    "## Step 1\n",
    "Take points one-by-one\n",
    "### Calculate beta distribution\n",
    "In order to prevent problems with calculating the beta distribution for large values of a and b using the `scipy.special.gamma` function mentioned in the assignment, we have derived recurrence relations in $a$ and $b$ for the coefficient in the beta distribution:  \n",
    "\n",
    "$\\beta(x,a,b) = \\frac{1}{B(a,b)} x^{a-1}(1-x)^{b-1}$    \n",
    "\n",
    "where,  \n",
    "\n",
    "$B(a,b) = \\frac{\\Gamma(a)\\Gamma(b)}{\\Gamma(a+b)}$  \n",
    "\n",
    "The recurrence relation(s) are as follows:  \n",
    "\n",
    "$\\beta(a,b) = \\frac{(a+b-1)}{(a-1)} \\beta(a-1,b)x$\n",
    "\n",
    " and,  \n",
    "\n",
    "$\\beta(a,b) = \\frac{(a+b-1)}{(b-1)} \\beta(a,b-1)(1-x)$\n",
    "\n",
    "While this is not necessary for the purpose of this assignment, we can use the following function for much larger number of iterations, when we sample one-by-one."
   ]
  },
  {
   "cell_type": "code",
   "execution_count": 7,
   "metadata": {
    "id": "UY-FqaQ2d4Zv"
   },
   "outputs": [],
   "source": [
    "##define a recurrence in gamma to prevent inf errors\n",
    "## Assumes that a,b are strictly increasing everytime beta is called\n",
    "def beta(x,a,b):\n",
    "  if (beta.B is None):\n",
    "    beta.B = 1/(gamma(a)*gamma(b)/(gamma(a+b)))\n",
    "    beta.B *= np.power(x,a-1)*np.power(1-x,b-1)\n",
    "    beta.a = a\n",
    "    beta.b = b\n",
    "  elif (a>beta.a):\n",
    "    beta.a = a\n",
    "    beta.B = (a+b-1)/(a-1) * beta.B * x\n",
    "  else:\n",
    "    beta.b = b\n",
    "    beta.B = (a+b-1)/(b-1) * beta.B * (1-x)\n",
    "  return beta.B\n",
    "beta.a = beta.b = -1\n",
    "beta.B = None\n",
    "\n"
   ]
  },
  {
   "cell_type": "code",
   "execution_count": null,
   "metadata": {
    "id": "QIq2LpRnTl9R"
   },
   "outputs": [],
   "source": [
    "'''\n",
    "def B(a,b):\n",
    "  res = 1\n",
    "  if (B.firstrun):\n",
    "    B.firstrun = False\n",
    "    B.a = a\n",
    "    B.b = b\n",
    "    while (a > 1):\n",
    "      res *= (a+b-1)/(a-1)\n",
    "      a-=1\n",
    "    ##B(a,b) = B(b,a)\n",
    "    while (b > 1):\n",
    "      res *= (a+b-1)/(b-1)\n",
    "      b-=1\n",
    "   #B(1,1) = 1/2\n",
    "    B.gamma *= res\n",
    "  else:\n",
    "    while (a > B.a):\n",
    "      res *= (a+b-1)/(a-1)\n",
    "      a-=1\n",
    "    while (b > B.b):\n",
    "      res *= (a+b-1)/(a-1)\n",
    "      b-=1\n",
    "    B.gamma*=res\n",
    "  return B.gamma\n",
    "B.a = B.b = 0\n",
    "B.gamma = 1/2\n",
    "B.firstrun = True\n",
    "'''"
   ]
  },
  {
   "cell_type": "code",
   "execution_count": 8,
   "metadata": {
    "id": "4HLJc2jUFPhG"
   },
   "outputs": [],
   "source": [
    "#make an animator function for gif\n",
    "def an(i):\n",
    "  global line, data, text\n",
    "  sample = data[i]\n",
    "  an.n = an.n+1\n",
    "  an.m = an.m+sample\n",
    "  an.a = an.a+sample\n",
    "  an.b = an.b+(1-sample)\n",
    "  an.mu = an.a/(an.a+an.b)\n",
    "  y = beta(x,an.a,an.b)\n",
    "  #print(type(x),type(y))\n",
    "  line.set_data(x,y)\n",
    "  text.set_text(f\"mean: {an.mu:.3f}\\niteration: {an.n}\")\n",
    "  #print(type(ax),type(line))\n",
    "  return line,text\n",
    "  #print(mu,a,b)\n",
    "an.a = 2\n",
    "an.b = 3\n",
    "an.m = 0\n",
    "an.n = 0\n",
    "an.mu = 0.4"
   ]
  },
  {
   "cell_type": "code",
   "execution_count": 9,
   "metadata": {
    "id": "hKhZ04GVxpgA"
   },
   "outputs": [],
   "source": [
    "#reset static vars\n",
    "def reset():\n",
    "  an.a = 2\n",
    "  an.b = 3\n",
    "  an.m = 0\n",
    "  an.n = 0\n",
    "  an.mu = 0.4\n",
    "  beta.a = beta.b = -1\n",
    "  beta.B = None\n",
    "  '''\n",
    "  B.a = B.b = 0\n",
    "  B.gamma = 1/2\n",
    "  B.firstrun = True\n",
    "  '''\n",
    "reset()"
   ]
  },
  {
   "cell_type": "code",
   "execution_count": 8,
   "metadata": {
    "id": "tH4TMqbJ-a-I"
   },
   "outputs": [],
   "source": [
    "##gif saver\n",
    "#%%capture\n",
    "#!apt install imagemagick"
   ]
  },
  {
   "cell_type": "code",
   "execution_count": 10,
   "metadata": {
    "colab": {
     "base_uri": "https://localhost:8080/",
     "height": 36
    },
    "id": "W0gmr4VL5mLx",
    "outputId": "96fa7842-3210-4c8c-eadc-230d436f39a2"
   },
   "outputs": [
    {
     "name": "stdout",
     "output_type": "stream",
     "text": [
      "160 iterations: mean: 0.10909090909090909\n"
     ]
    }
   ],
   "source": [
    "#Write a gif\n",
    "anim = animation.FuncAnimation(fig, an, init_func=init,\n",
    "                               frames=160, interval=20, blit=True)\n",
    "anim.save('./OneByOne.gif',writer='imagemagick')\n",
    "print(f\"160 iterations: mean: {an.mu}\")"
   ]
  },
  {
   "cell_type": "markdown",
   "metadata": {
    "id": "FGVXMhKIPSrq"
   },
   "source": [
    "## Step 2\n",
    "Take all the points at once!"
   ]
  },
  {
   "cell_type": "code",
   "execution_count": 11,
   "metadata": {
    "id": "t7czr7-HWm5S"
   },
   "outputs": [],
   "source": [
    "def animate_func_2():\n",
    "  m = np.count_nonzero(data)\n",
    "  a = 2.0\n",
    "  b = 3\n",
    "  mu = a/(a+b)\n",
    "  n = 160\n",
    "  y = gamma(a+b)/(gamma(a)*gamma(b))\n",
    "  y*=np.power(x,a-1)*np.power(1-x,b-1)\n",
    "  line.set_data(x,y)\n",
    "  text.set_text(f\"mean: {mu:.3f}\")\n",
    "  ax.figure.savefig('./AllAtOncePrior.png')\n",
    "  a = a+m\n",
    "  b = b+(n-m)\n",
    "  mu = a/(a+b)\n",
    "  y = gamma(a+b)/(gamma(a)*gamma(b))\n",
    "  y*=np.power(x,a-1)*np.power(1-x,b-1)\n",
    "  line.set_data(x,y)\n",
    "  text.set_text(f\"mean: {mu:.3f}\")\n",
    "  ax.figure.savefig('./AllAtOncePosterior.png')\n",
    "  print(f\"A single iteration of all 160 points: {mu}\")\n",
    "  return mu"
   ]
  },
  {
   "cell_type": "code",
   "execution_count": 12,
   "metadata": {
    "colab": {
     "base_uri": "https://localhost:8080/",
     "height": 75
    },
    "id": "DPkofhUrLXh4",
    "outputId": "ccb6f7d4-ae1f-438e-af68-0a7fe93a2b6b"
   },
   "outputs": [
    {
     "name": "stdout",
     "output_type": "stream",
     "text": [
      "A single iteration of all 160 points: 0.10909090909090909\n",
      "Comparing with previous value:0.10909090909090909\n",
      "OneByOne = AllAtOnce: True\n"
     ]
    }
   ],
   "source": [
    "mean_val = animate_func_2()\n",
    "print(f\"Comparing with previous value:{an.mu}\")\n",
    "print(f\"OneByOne = AllAtOnce: {an.mu == mean_val}\")"
   ]
  },
  {
   "cell_type": "markdown",
   "metadata": {
    "id": "Ae7OuoPUMaqq"
   },
   "source": [
    "## Result\n",
    "We see that the mean of the posterior distribution evaluates to the same result regardless of the method\n"
   ]
  }
 ],
 "metadata": {
  "colab": {
   "collapsed_sections": [],
   "name": "FoDS-A1.ipynb",
   "provenance": [],
   "toc_visible": true
  },
  "kernelspec": {
   "display_name": "Python 3",
   "language": "python",
   "name": "python3"
  },
  "language_info": {
   "codemirror_mode": {
    "name": "ipython",
    "version": 3
   },
   "file_extension": ".py",
   "mimetype": "text/x-python",
   "name": "python",
   "nbconvert_exporter": "python",
   "pygments_lexer": "ipython3",
   "version": "3.8.6"
  }
 },
 "nbformat": 4,
 "nbformat_minor": 1
}
